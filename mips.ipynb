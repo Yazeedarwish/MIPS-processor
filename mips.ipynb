{
 "cells": [
  {
   "cell_type": "code",
   "execution_count": 25,
   "outputs": [],
   "source": [
    "from myhdl import *\n",
    "from myhdlpeek import *\n",
    "import random as n"
   ],
   "metadata": {
    "collapsed": false,
    "pycharm": {
     "name": "#%%\n"
    }
   }
  },
  {
   "cell_type": "code",
   "execution_count": 64,
   "outputs": [],
   "source": [
    "def ins_Memory(address, clk, current_ins):\n",
    "    # binaryfile = open(\"Instructions.txt\", \"rb\")\n",
    "    # binaryfile = open(\"instructions\", \"rb\")\n",
    "    binaryfile = open(\"instructions2\", \"rb\")\n",
    "    # ins_memory = [intbv(0)[32:] for _ in range(44)]\n",
    "    ins_memory = []\n",
    "    i = 0\n",
    "    for line in binaryfile:\n",
    "        ins_memory.append(intbv(line.decode('utf-8')))\n",
    "        print(ins_memory)\n",
    "\n",
    "    @always(address)\n",
    "    def memory_Behave():\n",
    "        print(\"NEW INSTRUCTION ALERT!!!!!------------------\")\n",
    "        print(address)\n",
    "        print(\"ins_Memory[address] = \"+str(ins_memory[address]))\n",
    "        current_ins.next = ins_memory[address]\n",
    "\n",
    "    return instances()"
   ],
   "metadata": {
    "collapsed": false,
    "pycharm": {
     "name": "#%%\n"
    }
   }
  },
  {
   "cell_type": "code",
   "execution_count": 27,
   "outputs": [],
   "source": [
    "def pc(clk, current_address, next_ins):\n",
    "    @always(clk.posedge)\n",
    "    def pc_Behave():\n",
    "        current_address.next = next_ins\n",
    "\n",
    "    return instances()"
   ],
   "metadata": {
    "collapsed": false,
    "pycharm": {
     "name": "#%%\n"
    }
   }
  },
  {
   "cell_type": "code",
   "execution_count": 28,
   "outputs": [],
   "source": [
    "def adder(current_address, adder_out):\n",
    "    @always_comb\n",
    "    def Adder_behave():\n",
    "        adder_out.next = current_address + 1\n",
    "\n",
    "    return instances()"
   ],
   "metadata": {
    "collapsed": false,
    "pycharm": {
     "name": "#%%\n"
    }
   }
  },
  {
   "cell_type": "markdown",
   "source": [
    "Decoding (Bit Slicing)"
   ],
   "metadata": {
    "collapsed": false,
    "pycharm": {
     "name": "#%% md\n"
    }
   }
  },
  {
   "cell_type": "code",
   "execution_count": 29,
   "outputs": [],
   "source": [
    "def decode(current_ins, opcode, rs, rt, rd, funct, shamt, imm):\n",
    "    @always_comb\n",
    "    def decode_Behave():\n",
    "        opcode.next = current_ins[32:26]\n",
    "        rs.next = current_ins[26:21]\n",
    "        rt.next = current_ins[21:16]\n",
    "        # r - type\n",
    "        rd.next = current_ins[16:11]\n",
    "        shamt.next = current_ins[11:6]\n",
    "        funct.next = current_ins[6:]\n",
    "        # i - type\n",
    "        print(\"Imm = \" + str(current_ins[16:]))\n",
    "        imm.next = current_ins[16:]\n",
    "\n",
    "    return instances()"
   ],
   "metadata": {
    "collapsed": false,
    "pycharm": {
     "name": "#%%\n"
    }
   }
  },
  {
   "cell_type": "markdown",
   "source": [
    "Memory and Decode Testbench"
   ],
   "metadata": {
    "collapsed": false,
    "pycharm": {
     "name": "#%% md\n"
    }
   }
  },
  {
   "cell_type": "code",
   "execution_count": 30,
   "outputs": [],
   "source": [
    "# Peeker.clear()\n",
    "# current_ins = Signal(intbv(0)[32:])\n",
    "# opcode = Signal(intbv(0)[6:])\n",
    "# funct = Signal(intbv(0)[6:])\n",
    "# clk = Signal(bool(0))\n",
    "# current_address = Signal(intbv(0)[32:])\n",
    "# next_address = Signal(intbv(0)[32:])\n",
    "# next_ins = Signal(intbv(0)[32:])\n",
    "# imm = Signal(intbv(0)[16:])\n",
    "# # -------------------------\n",
    "#\n",
    "# rs, rt, rd, shamt = [Signal(intbv(0)[5:]) for _ in range(4)]  # Integer signals for the inputs & output.\n",
    "#\n",
    "# # Create some Peekers to monitor the multiplexer I/Os.\n",
    "# Peeker(current_address, 'current address')\n",
    "# Peeker(current_ins, 'current')  # Add a Peeker to the a input.\n",
    "# Peeker(opcode, 'opcode')  # Add a Peeker to the b input.\n",
    "# Peeker(rs, 'rs')  # Add a peeker to the z output.\n",
    "# Peeker(rt, 'rt')  # Add a Peeker to the select input. The Peeker label doesn't have to match the signal name.\n",
    "# Peeker(rd, 'rd')\n",
    "# Peeker(funct, 'funct')  # Add a Peeker to the a input.\n",
    "# Peeker(shamt, 'shamt')  # Add a Peeker to the b input.\n",
    "# Peeker(imm, 'imm')  # Add a peeker to the z output.\n",
    "#\n",
    "# # Instantiate the multiplexer.\n",
    "# pc_inst = pc(clk, current_address, next_ins)\n",
    "# adder_inst = adder(current_address, next_ins)\n",
    "# memory_inst = ins_Memory(current_address, clk, current_ins)\n",
    "# decode_inst = decode(current_ins, opcode, rs, rt, rd, funct, shamt, imm)\n",
    "#\n",
    "#\n",
    "# # Create a test process to apply random patterns to the multiplexer.\n",
    "#\n",
    "#\n",
    "# def testDecode():\n",
    "#     '''Simple testbed generator that applies random inputs to the multiplexer.'''\n",
    "#\n",
    "#     @instance\n",
    "#     def invertClk():\n",
    "#         for i in range(7):\n",
    "#             clk.next = 1\n",
    "#             yield delay(1)\n",
    "#             clk.next = 0\n",
    "#             yield delay(1)\n",
    "#\n",
    "#     return instances()\n",
    "#\n",
    "#\n",
    "# # Create a simulator for the multiplexer, test process and the peekers.\n",
    "# sim = Simulation(decode_inst, memory_inst, adder_inst, pc_inst, testDecode(), *Peeker.instances())\n",
    "#\n",
    "# # Run the simulation.\n",
    "# sim.run()\n",
    "#\n",
    "# # Display the complete waveforms captured by all the Peekers.\n",
    "# Peeker.show_waveforms(width=90)\n",
    "#\n",
    "# # Clear the Peekers for the next simulation.\n",
    "# Peeker.clear()"
   ],
   "metadata": {
    "collapsed": false,
    "pycharm": {
     "name": "#%%\n"
    }
   }
  },
  {
   "cell_type": "code",
   "execution_count": 31,
   "outputs": [],
   "source": [
    "def control(opcode, funct, reg_dest, mem_read, mem_to_reg, alu_op, mem_write, alu_src, reg_write, branch):\n",
    "    @always_comb\n",
    "    def control_behave():\n",
    "        # ------------------- r - type -----------------\n",
    "        if int(opcode) == 0:\n",
    "            alu_src.next = 0\n",
    "            if int(funct) == 32:  # ADD\n",
    "                reg_dest.next = 1\n",
    "                reg_write.next = 1\n",
    "                alu_src.next = 0\n",
    "                alu_op.next = 2\n",
    "                mem_write.next = 0\n",
    "                mem_read.next = 0\n",
    "                mem_to_reg.next = 0\n",
    "                branch.next = 0\n",
    "\n",
    "            elif int(funct) == 34:  # SUB\n",
    "                reg_dest.next = 1\n",
    "                reg_write.next = 1\n",
    "                alu_src.next = 0\n",
    "                alu_op.next = 6\n",
    "                mem_write.next = 0\n",
    "                mem_read.next = 0\n",
    "                mem_to_reg.next = 0\n",
    "                branch.next = 0\n",
    "\n",
    "            elif int(funct) == 54:  # AND\n",
    "                reg_dest.next = 1\n",
    "                reg_write.next = 1\n",
    "                alu_src.next = 0\n",
    "                alu_op.next = 0\n",
    "                mem_write.next = 0\n",
    "                mem_read.next = 0\n",
    "                mem_to_reg.next = 0\n",
    "                branch.next = 0\n",
    "\n",
    "            elif int(funct) == 55:  # OR\n",
    "                reg_dest.next = 1\n",
    "                reg_write.next = 1\n",
    "                alu_src.next = 0\n",
    "                alu_op.next = 1\n",
    "                mem_write.next = 0\n",
    "                mem_read.next = 0\n",
    "                mem_to_reg.next = 0\n",
    "                branch.next = 0\n",
    "\n",
    "            elif int(funct) == 56:  # XOR\n",
    "                reg_dest.next = 1\n",
    "                reg_write.next = 1\n",
    "                alu_src.next = 0\n",
    "                alu_op.next = 3\n",
    "                mem_write.next = 0\n",
    "                mem_read.next = 0\n",
    "                mem_to_reg.next = 0\n",
    "                branch.next = 0\n",
    "\n",
    "        # ------------------- i - type -----------------\n",
    "\n",
    "        elif int(opcode) == 8:  # ADDI\n",
    "            reg_dest.next = 0\n",
    "            reg_write.next = 1\n",
    "            alu_src.next = 1\n",
    "            alu_op.next = 2\n",
    "            mem_write.next = 0\n",
    "            mem_read.next = 0\n",
    "            mem_to_reg.next = 0\n",
    "            branch.next = 0\n",
    "\n",
    "        elif int(opcode) == 36:  # SUBI\n",
    "            reg_dest.next = 0\n",
    "            reg_write.next = 1\n",
    "            alu_src.next = 1\n",
    "            alu_op.next = 6\n",
    "            mem_write.next = 0\n",
    "            mem_read.next = 0\n",
    "            mem_to_reg.next = 0\n",
    "            branch.next = 0\n",
    "\n",
    "        elif int(opcode) == 35:  # LW\n",
    "            reg_dest.next = 0\n",
    "            reg_write.next = 1\n",
    "            alu_src.next = 1\n",
    "            alu_op.next = 2\n",
    "            mem_write.next = 0\n",
    "            mem_read.next = 1\n",
    "            mem_to_reg.next = 1\n",
    "            branch.next = 0\n",
    "\n",
    "        elif int(opcode) == 43:  # SW\n",
    "            reg_dest.next = 0  # NO NEED\n",
    "            reg_write.next = 0\n",
    "            alu_src.next = 1\n",
    "            alu_op.next = 2\n",
    "            mem_write.next = 1\n",
    "            mem_read.next = 0\n",
    "            mem_to_reg.next = 0  # NO NEED\n",
    "            branch.next = 0\n",
    "\n",
    "        elif int(opcode) == 4:  # BEQ\n",
    "            reg_dest.next = 0  # NO NEED\n",
    "            reg_write.next = 0\n",
    "            alu_src.next = 0\n",
    "            alu_op.next = 6\n",
    "            mem_write.next = 0\n",
    "            mem_read.next = 0\n",
    "            mem_to_reg.next = 0  # NO NEED\n",
    "            branch.next = 1\n",
    "\n",
    "    return instances()"
   ],
   "metadata": {
    "collapsed": false,
    "pycharm": {
     "name": "#%%\n"
    }
   }
  },
  {
   "cell_type": "code",
   "execution_count": 32,
   "outputs": [],
   "source": [
    "def mux_5(reg_dest, rt, rd, mux_5_out):\n",
    "    @always_comb\n",
    "    def mux_5_Behave():\n",
    "        if reg_dest == 0:\n",
    "            mux_5_out.next = rt\n",
    "        else:\n",
    "            mux_5_out.next = rd\n",
    "\n",
    "    return instances()"
   ],
   "metadata": {
    "collapsed": false,
    "pycharm": {
     "name": "#%%\n"
    }
   }
  },
  {
   "cell_type": "code",
   "execution_count": 33,
   "outputs": [],
   "source": [
    "def mux_32(decider, inp1, inp2, mux_32_out):\n",
    "    @always_comb\n",
    "    def mux_32_Behave():\n",
    "        if decider == 0:\n",
    "            mux_32_out.next = inp1\n",
    "        else:\n",
    "            mux_32_out.next = inp2\n",
    "\n",
    "    return instances()"
   ],
   "metadata": {
    "collapsed": false,
    "pycharm": {
     "name": "#%%\n"
    }
   }
  },
  {
   "cell_type": "code",
   "execution_count": 34,
   "outputs": [],
   "source": [
    "def mux_4(decider, inp1, inp2, mux_4_out):\n",
    "    @always(clk.posedge)\n",
    "    def mux_4_Behave():\n",
    "        print(\"and gate result = \" + str(decider))\n",
    "        if decider == 0:\n",
    "            mux_4_out.next = inp1\n",
    "        else:\n",
    "            mux_4_out.next = inp2\n",
    "\n",
    "    return instances()"
   ],
   "metadata": {
    "collapsed": false,
    "pycharm": {
     "name": "#%%\n"
    }
   }
  },
  {
   "cell_type": "code",
   "execution_count": 35,
   "outputs": [],
   "source": [
    "def sign_Ext(imm, sign_ext_out):\n",
    "    @always_comb\n",
    "    def sign_Ext_Behave():\n",
    "        print(\"immediate = \" + str(imm))\n",
    "        sign_ext_out.next = imm\n",
    "\n",
    "        bin(imm,width=32)\n",
    "        # bin_string = str(bin(imm))\n",
    "        # if len(bin_string) != 16:\n",
    "        #     pos = \"0000000000000000\" + bin_string\n",
    "        #     posfil = pos.zfil(32)\n",
    "        #     print(\"Posfil\" + str(posfil))\n",
    "        #     sign_ext_out.next = intbv(posfil)\n",
    "        # else:\n",
    "        #     neg = \"1111111111111111\" + bin_string\n",
    "        #     print(\"Neg = \" + str(neg))\n",
    "        #     sign_ext_out.next = intbv(neg)\n",
    "\n",
    "    return instances()\n"
   ],
   "metadata": {
    "collapsed": false,
    "pycharm": {
     "name": "#%%\n"
    }
   }
  },
  {
   "cell_type": "code",
   "execution_count": 36,
   "outputs": [],
   "source": [
    "def alu(rd1, mux_out, alu_op, alu_out, zero):\n",
    "    @always_comb\n",
    "    def alu_Behave():\n",
    "        if alu_op == 2:  # add\n",
    "            alu_out.next = rd1 + mux_out\n",
    "            if rd1 + mux_out == 0:  # to check the zero line output\n",
    "                zero.next = 1\n",
    "            else:\n",
    "                zero.next = 0\n",
    "\n",
    "\n",
    "        elif alu_op == 6:  # sub\n",
    "            alu_out.next = rd1 - mux_out  # alu_out\n",
    "            if rd1 - mux_out == 0:  # to check the zero line output\n",
    "                zero.next = 1\n",
    "            else:\n",
    "                zero.next = 0\n",
    "\n",
    "        elif alu_op == 0:  # and\n",
    "            alu_out.next = rd1 & mux_out\n",
    "            if rd1 & mux_out == 0:  # to check the zero line output\n",
    "                zero.next = 1\n",
    "            else:\n",
    "                zero.next = 0\n",
    "\n",
    "        elif alu_op == 1:  # or\n",
    "            alu_out.next = rd1 | mux_out\n",
    "            if rd1 | mux_out == 0:  # to check the zero line output\n",
    "                zero.next = 1\n",
    "            else:\n",
    "                zero.next = 0\n",
    "\n",
    "        elif alu_op == 3:  # xor\n",
    "            alu_out.next = rd1 ^ mux_out\n",
    "            if rd1 ^ mux_out == 0:  # to check the zero line output\n",
    "                zero.next = 1\n",
    "            else:\n",
    "                zero.next = 0\n",
    "\n",
    "    return instances()"
   ],
   "metadata": {
    "collapsed": false,
    "pycharm": {
     "name": "#%%\n"
    }
   }
  },
  {
   "cell_type": "code",
   "execution_count": 37,
   "outputs": [],
   "source": [
    "def data_memory(clk, address, data, mem_write, mem_read, read_data):\n",
    "    array = [Signal(intbv(0)[:32])] * 65535\n",
    "    # print(\"array length: \" + str(len(array)))\n",
    "\n",
    "    @always(clk.posedge)\n",
    "    def write():\n",
    "        if mem_write:\n",
    "            print(mem_write)\n",
    "            print(\"data_memory address Write: \" + str(address))\n",
    "            array[address] = data\n",
    "            print(\"array[address] = \"+str(array[address]))\n",
    "            #array[address].next = data\n",
    "\n",
    "    @always(clk.negedge)\n",
    "    def read():\n",
    "        if mem_read:\n",
    "            print(\"data_memory Read: \" + str(address))\n",
    "            read_data.next = array[address]\n",
    "\n",
    "    return instances()"
   ],
   "metadata": {
    "collapsed": false,
    "pycharm": {
     "name": "#%%\n"
    }
   }
  },
  {
   "cell_type": "code",
   "execution_count": 57,
   "outputs": [],
   "source": [
    "def reg_file(clk, read_reg1, read_reg2, reg_write, write_reg, write_data, read_data1, read_data2):\n",
    "    # array = [Signal(intbv(0)[:32])] * 32\n",
    "    array = [5,2,1,4,5,6,7,8,4,3,5,2,1,4,5,6,7,8,4,3,5,2,1,4,5,6,7,8,4,3,5,1]\n",
    "\n",
    "    print(\"array[10]: \" + str(array[10]))\n",
    "    print(\"array[15]: \" + str(array[15]))\n",
    "    # for i in range(len(reg)):\n",
    "    #     array[i] = Signal(intbv(reg[i]))\n",
    "    # read_data1.next = array[int(read_reg1)]\n",
    "    # read_data2.next = array[int(read_reg2)]\n",
    "\n",
    "    @always(clk.posedge)\n",
    "    def read():\n",
    "        read_data1.next = array[read_reg1]\n",
    "        read_data2.next = array[read_reg2]\n",
    "        print(\"read reg1 = \" + str(read_reg1))\n",
    "        print(\"read reg2 = \" + str(read_reg2))\n",
    "        print(\"read data1 = \" + str(read_data1))\n",
    "        print(\"read data2 = \" + str(read_data2))\n",
    "    @always(clk.negedge)\n",
    "    def write():\n",
    "        if reg_write == 1:\n",
    "            array[write_reg] = write_data\n",
    "            #array[write_reg].next = write_data\n",
    "\n",
    "        print(\"reg_file To be written: \"+ str(write_data))\n",
    "\n",
    "    return instances()"
   ],
   "metadata": {
    "collapsed": false,
    "pycharm": {
     "name": "#%%\n"
    }
   }
  },
  {
   "cell_type": "code",
   "execution_count": 39,
   "outputs": [],
   "source": [
    "def branch_Adder(adder1_out,sign_ext_out,add_result):\n",
    "    @always_comb\n",
    "    def b_Adder_Behave():\n",
    "        print(\"Sign Extend Output = \" + str(sign_ext_out))\n",
    "        print(\"Branch Adder = \" + str((sign_ext_out + adder1_out)))\n",
    "        add_result.next = sign_ext_out + adder1_out\n",
    "    return instances()"
   ],
   "metadata": {
    "collapsed": false,
    "pycharm": {
     "name": "#%%\n"
    }
   }
  },
  {
   "cell_type": "code",
   "execution_count": 40,
   "outputs": [],
   "source": [
    "def and_Gate(a,b,and_out):\n",
    "    @always_comb\n",
    "    def and_Behave():\n",
    "        print(\"Branch = \" + str(a))\n",
    "        print(\"Zero = \" + str(b))\n",
    "        and_out.next = a and b\n",
    "    return instances()"
   ],
   "metadata": {
    "collapsed": false,
    "pycharm": {
     "name": "#%%\n"
    }
   }
  },
  {
   "cell_type": "markdown",
   "source": [
    "Control Unit Testbench"
   ],
   "metadata": {
    "collapsed": false,
    "pycharm": {
     "name": "#%% md\n"
    }
   }
  },
  {
   "cell_type": "code",
   "execution_count": 41,
   "outputs": [],
   "source": [
    "# Peeker.clear()\n",
    "#\n",
    "# current_ins = Signal(intbv(0)[32:])\n",
    "# opcode = Signal(intbv(0)[6:])\n",
    "# funct = Signal(intbv(0)[6:])\n",
    "# clk = Signal(bool(0))\n",
    "# current_address = Signal(intbv(0)[32:])\n",
    "# next_address = Signal(intbv(0)[32:])\n",
    "# next_ins = Signal(intbv(0)[32:])\n",
    "# imm = Signal(intbv(0)[16:])\n",
    "# rs, rt, rd, shamt = [Signal(intbv(0)[5:]) for _ in range(4)]  # Integer signals for the inputs & output.\n",
    "# # -------------------------\n",
    "# # control signals\n",
    "# reg_dst = Signal(bool(0))\n",
    "# branch = Signal(bool(0))\n",
    "# mem_read = Signal(bool(0))\n",
    "# mem_to_reg = Signal(bool(0))\n",
    "# alu_op = Signal(intbv(0)[3:])\n",
    "# mem_write = Signal(bool(0))\n",
    "# alu_src = Signal(bool(0))\n",
    "# reg_write = Signal(bool(0))\n",
    "#\n",
    "# # Create some Peekers to monitor the multiplexer I/Os.\n",
    "# Peeker(current_address, 'current address')\n",
    "# Peeker(current_ins, 'current')  # Add a Peeker to the a input.\n",
    "# Peeker(opcode, 'opcode')  # Add a Peeker to the b input.\n",
    "# Peeker(rs, 'rs')  # Add a peeker to the z output.\n",
    "# Peeker(rt, 'rt')  # Add a Peeker to the select input. The Peeker label doesn't have to match the signal name.\n",
    "# # Peeker(rd, 'rd')\n",
    "# # Peeker(funct, 'funct')  # Add a Peeker to the a input.\n",
    "# # Peeker(shamt, 'shamt')  # Add a Peeker to the b input.\n",
    "# Peeker(imm, 'imm')  # Add a peeker to the z output.\n",
    "# Peeker(alu_op, 'ALU Operation')\n",
    "#\n",
    "# # Instantiation\n",
    "# pc_inst = pc(clk, current_address, next_ins)\n",
    "# adder_inst = adder(current_address, next_ins)\n",
    "# memory_inst = ins_Memory(current_address, clk, current_ins)\n",
    "# decode_inst = decode(current_ins, opcode, rs, rt, rd, funct, shamt, imm)\n",
    "# #----------------------\n",
    "# control_inst = control(opcode, funct, reg_dst, mem_read, mem_to_reg, alu_op, mem_write, alu_src, reg_write, branch)\n",
    "#\n",
    "#\n",
    "# # Create a test process to apply random patterns to the multiplexer.\n",
    "#\n",
    "#\n",
    "# def testDecode():\n",
    "#     '''Simple testbed generator that applies random inputs to the multiplexer.'''\n",
    "#\n",
    "#     @instance\n",
    "#     def invertClk():\n",
    "#         for i in range(43):\n",
    "#             clk.next = 1\n",
    "#             yield delay(1)\n",
    "#             clk.next = 0\n",
    "#             yield delay(1)\n",
    "#\n",
    "#     return instances()\n",
    "#\n",
    "#\n",
    "# # Create a simulator for the multiplexer, test process and the peekers.\n",
    "# sim = Simulation(decode_inst, memory_inst, adder_inst, pc_inst, control_inst, testDecode(), *Peeker.instances())\n",
    "#\n",
    "# # Run the simulation.\n",
    "# sim.run()\n",
    "#\n",
    "# # Display the complete waveforms captured by all the Peekers.\n",
    "# Peeker.show_waveforms(width=90)\n",
    "#\n",
    "# # Clear the Peekers for the next simulation.\n",
    "# Peeker.clear()\n"
   ],
   "metadata": {
    "collapsed": false,
    "pycharm": {
     "name": "#%%\n"
    }
   }
  },
  {
   "cell_type": "markdown",
   "source": [
    "Testbench"
   ],
   "metadata": {
    "collapsed": false,
    "pycharm": {
     "name": "#%% md\n"
    }
   }
  },
  {
   "cell_type": "code",
   "execution_count": 68,
   "outputs": [
    {
     "name": "stdout",
     "output_type": "stream",
     "text": [
      "hereEEEEEEEEEEEEEEEEEEEEEE is the pc=-1\n",
      "[intbv(32139296)]\n",
      "[intbv(32139296), intbv(28756002)]\n",
      "[intbv(32139296), intbv(28756002), intbv(307363842)]\n",
      "[intbv(32139296), intbv(28756002), intbv(307363842), intbv(590678801)]\n",
      "[intbv(32139296), intbv(28756002), intbv(307363842), intbv(590678801), intbv(39151672)]\n",
      "[intbv(32139296), intbv(28756002), intbv(307363842), intbv(590678801), intbv(39151672), intbv(2933325882)]\n",
      "[intbv(32139296), intbv(28756002), intbv(307363842), intbv(590678801), intbv(39151672), intbv(2933325882), intbv(2373451834)]\n",
      "array[10]: 5\n",
      "array[15]: 6\n",
      "immediate = 0\n",
      "Branch = False\n",
      "Zero = False\n",
      "Sign Extend Output = 00000000\n",
      "Branch Adder = 0\n",
      "Imm = 0000\n",
      "Branch = False\n",
      "Zero = 1\n",
      "read reg1 = 0\n",
      "read reg2 = 0\n",
      "read data1 = 0\n",
      "read data2 = 0\n",
      "and gate result = False\n",
      "and gate result = False\n",
      "NEW INSTRUCTION ALERT!!!!!------------------\n",
      "0\n",
      "ins_Memory[address] = 001ea6820\n",
      "Sign Extend Output = 00000000\n",
      "Branch Adder = 1\n",
      "Imm = 6820\n",
      "Branch = False\n",
      "Zero = 0\n",
      "immediate = 6820\n",
      "Sign Extend Output = 00006820\n",
      "Branch Adder = 26657\n",
      "reg_file To be written: 0\n",
      "and gate result = False\n",
      "and gate result = False\n",
      "read reg1 = f\n",
      "read reg2 = a\n",
      "read data1 = 5\n",
      "read data2 = 5\n",
      "reg_file To be written: a\n",
      "read reg1 = f\n",
      "read reg2 = a\n",
      "read data1 = 6\n",
      "read data2 = 5\n",
      "and gate result = False\n",
      "and gate result = False\n",
      "NEW INSTRUCTION ALERT!!!!!------------------\n",
      "1\n",
      "ins_Memory[address] = 001b6c822\n",
      "Imm = c822\n",
      "Sign Extend Output = 00006820\n",
      "Branch Adder = 26658\n",
      "immediate = c822\n",
      "Sign Extend Output = 0000c822\n",
      "Branch Adder = 51236\n",
      "reg_file To be written: b\n",
      "and gate result = False\n",
      "and gate result = False\n",
      "read reg1 = d\n",
      "read reg2 = 16\n",
      "read data1 = 6\n",
      "read data2 = 5\n",
      "reg_file To be written: 1\n",
      "read reg1 = d\n",
      "read reg2 = 16\n",
      "read data1 = b\n",
      "read data2 = 1\n",
      "and gate result = False\n",
      "and gate result = False\n",
      "NEW INSTRUCTION ALERT!!!!!------------------\n",
      "2\n",
      "ins_Memory[address] = 012520002\n",
      "Sign Extend Output = 0000c822\n",
      "Branch Adder = 51237\n",
      "Imm = 0002\n",
      "Branch = False\n",
      "Zero = 1\n",
      "immediate = 2\n",
      "Branch = 1\n",
      "Zero = 1\n",
      "Sign Extend Output = 00000002\n",
      "Branch Adder = 5\n",
      "reg_file To be written: a\n",
      "and gate result = False\n",
      "and gate result = 1\n",
      "read reg1 = 12\n",
      "read reg2 = 12\n",
      "read data1 = 1\n",
      "read data2 = 1\n",
      "Branch = 1\n",
      "Zero = 0\n",
      "Branch = 1\n",
      "Zero = 1\n",
      "reg_file To be written: 0\n",
      "read reg1 = 12\n",
      "read reg2 = 12\n",
      "read data1 = 4\n",
      "read data2 = 4\n",
      "and gate result = 1\n",
      "and gate result = False\n",
      "NEW INSTRUCTION ALERT!!!!!------------------\n",
      "5\n",
      "ins_Memory[address] = 0aed7003a\n",
      "Imm = 003a\n",
      "Sign Extend Output = 00000002\n",
      "Branch Adder = 8\n",
      "immediate = 3a\n",
      "Branch = 0\n",
      "Zero = 1\n",
      "Sign Extend Output = 0000003a\n",
      "Branch Adder = 64\n",
      "Branch = 0\n",
      "Zero = 0\n",
      "reg_file To be written: 0\n",
      "1\n",
      "data_memory address Write: 3e\n",
      "array[address] = 4\n",
      "and gate result = False\n",
      "and gate result = 0\n",
      "read reg1 = 16\n",
      "read reg2 = 17\n",
      "read data1 = 4\n",
      "read data2 = 4\n",
      "reg_file To be written: 3e\n",
      "read reg1 = 16\n",
      "read reg2 = 17\n",
      "read data1 = 1\n",
      "read data2 = 4\n",
      "and gate result = 0\n",
      "and gate result = False\n",
      "1\n",
      "data_memory address Write: 3b\n",
      "array[address] = 4\n",
      "NEW INSTRUCTION ALERT!!!!!------------------\n",
      "6\n",
      "ins_Memory[address] = 8d78003a\n",
      "Sign Extend Output = 0000003a\n",
      "Branch Adder = 65\n",
      "Imm = 003a\n",
      "reg_file To be written: 3b\n",
      "data_memory Read: 3b\n",
      "and gate result = 1\n",
      "and gate result = 0\n",
      "read reg1 = b\n",
      "read reg2 = 18\n",
      "read data1 = 1\n",
      "read data2 = 4\n"
     ]
    },
    {
     "name": "stderr",
     "output_type": "stream",
     "text": [
      "<class 'myhdl.StopSimulation'>: No more events\n"
     ]
    },
    {
     "data": {
      "text/plain": "<Figure size 1440x432 with 12 Axes>",
      "image/png": "[encoded data removed]"
     },
     "metadata": {
      "needs_background": "light"
     },
     "output_type": "display_data"
    }
   ],
   "source": [
    "Peeker.clear()\n",
    "current_ins = Signal(intbv(0)[32:])\n",
    "opcode = Signal(intbv(0)[6:])\n",
    "funct = Signal(intbv(0)[6:])\n",
    "clk = Signal(bool(0))\n",
    "current_address = Signal(intbv(-1))\n",
    "next_address = Signal(intbv(0))\n",
    "next_ins = Signal(intbv(0))\n",
    "pc_adder_out = Signal(intbv(0))\n",
    "imm = Signal(intbv(0))\n",
    "rs = Signal(intbv(15))\n",
    "rt = Signal(intbv(10))\n",
    "rd, shamt = [Signal(intbv(0)[5:]) for _ in range(2)]  # Integer signals for the inputs & output.\n",
    "# -------------------------\n",
    "# control signals\n",
    "reg_dst = Signal(bool(0))\n",
    "branch = Signal(bool(0))\n",
    "mem_read = Signal(bool(0))\n",
    "mem_to_reg = Signal(bool(0))\n",
    "alu_op = Signal(intbv(0)[3:])\n",
    "mem_write = Signal(bool(0))\n",
    "alu_src = Signal(bool(0))\n",
    "reg_write = Signal(bool(0))\n",
    "#--------------------------\n",
    "# mux output signals\n",
    "mux1_out = Signal(intbv(0)[5:])\n",
    "mux2_out = Signal(intbv(0)) # edited\n",
    "mux3_out = Signal(intbv(0)) # for data memory\n",
    "#------------------------------\n",
    "and_out = Signal(bool(0))\n",
    "add_result_out = Signal(intbv(0)[32:])\n",
    "#------------------------------\n",
    "sign_ext_out = Signal(intbv(0)[32:])\n",
    "#------------------------------\n",
    "# register file output signals\n",
    "read_data1 = Signal(intbv(0)) # edited\n",
    "read_data2 = Signal(intbv(0))\n",
    "#------------------------------\n",
    "# data memory register\n",
    "read_data = Signal(intbv(0))\n",
    "#------------------------------\n",
    "# alu output signals\n",
    "zero = Signal(bool(0))\n",
    "alu_result = Signal(intbv(0))\n",
    "\n",
    "# Create some Peekers to monitor the multiplexer I/Os.\n",
    "Peeker(clk,'clk')\n",
    "Peeker(current_address, 'current address')\n",
    "Peeker(current_ins, 'current ins')  # Add a Peeker to the a input.\n",
    "Peeker(next_ins, 'next_ins')\n",
    "Peeker(rs, 'rs')  # Add a peeker to the z output.\n",
    "Peeker(rt, 'rt')  # Add a Peeker to the select input. The Peeker label doesn't have to match the signal name.\n",
    "Peeker(rd, 'rd')\n",
    "# # Peeker(funct, 'funct')  # Add a Peeker to the a input.\n",
    "# # Peeker(shamt, 'shamt')  # Add a Peeker to the b input.\n",
    "# Peeker(imm, 'imm')  # Add a peeker to the z output.\n",
    "Peeker(alu_op, 'ALU Operation')\n",
    "Peeker(opcode, 'opcode')\n",
    "Peeker(alu_result, 'ALU Result')\n",
    "Peeker(read_data1, 'Operand 1')\n",
    "Peeker(read_data2, 'Operand 2')\n",
    "\n",
    "\n",
    "# Instantiation\n",
    "pc_inst = pc(clk,current_address,next_ins)\n",
    "print(\"hereEEEEEEEEEEEEEEEEEEEEEE is the pc=\" + str(current_address))\n",
    "adder_inst = adder(current_address, pc_adder_out)\n",
    "memory_inst = ins_Memory(current_address, clk, current_ins)\n",
    "decode_inst = decode(current_ins, opcode, rs, rt, rd, funct, shamt, imm)\n",
    "#----------------------\n",
    "control_inst = control(opcode, funct, reg_dst, mem_read, mem_to_reg, alu_op, mem_write, alu_src, reg_write, branch)\n",
    "#----------------------\n",
    "mux1_inst = mux_5(reg_dst, rt, rd, mux1_out)\n",
    "mux2_inst = mux_32(alu_src, read_data2, sign_ext_out, mux2_out)\n",
    "#----------------------\n",
    "sign_ext_inst = sign_Ext(imm,sign_ext_out)\n",
    "#------------------------------------------------------alu_result change after testing to mux3_out\n",
    "registers_inst = reg_file(clk, rs, rt, reg_write, mux1_out, mux3_out, read_data1, read_data2)\n",
    "#----------------------\n",
    "alu_inst = alu(read_data1, mux2_out, alu_op, alu_result, zero)\n",
    "#----------------------\n",
    "# branch zone\n",
    "b_adder_inst = branch_Adder(pc_adder_out,sign_ext_out,add_result_out)\n",
    "and_inst = and_Gate(branch,zero,and_out)\n",
    "mux4_inst = mux_4(and_out,pc_adder_out,add_result_out,next_ins)\n",
    "#----------------------\n",
    "# data memory zone\n",
    "data_memory_inst = data_memory(clk,alu_result,read_data2,mem_write,mem_read,read_data)\n",
    "mux3_inst = mux_4(mem_to_reg,alu_result,read_data,mux3_out)\n",
    "\n",
    "# Create a test process to apply random patterns to the multiplexer.\n",
    "\n",
    "\n",
    "def testDecode():\n",
    "    '''Simple testbed generator that applies random inputs to the multiplexer.'''\n",
    "\n",
    "    @instance\n",
    "    def invertClk():\n",
    "        for i in range(10):\n",
    "            clk.next = 0\n",
    "            yield delay(1)\n",
    "            clk.next = 1\n",
    "            yield delay(1)\n",
    "    return instances()\n",
    "\n",
    "\n",
    "# Create a simulator for the multiplexer, test process and the peekers.\n",
    "sim = Simulation(decode_inst, memory_inst, adder_inst, pc_inst, mux1_inst, mux2_inst, registers_inst, alu_inst,\n",
    "                 control_inst,b_adder_inst,and_inst,mux4_inst,mux3_inst,data_memory_inst,sign_ext_inst, testDecode(), *Peeker.instances())\n",
    "\n",
    "# Run the simulation.\n",
    "sim.run()\n",
    "\n",
    "# Display the complete waveforms captured by all the Peekers.\n",
    "Peeker.show_waveforms(width=20)\n",
    "# Clear the Peekers for the next simulation.\n",
    "Peeker.clear()"
   ],
   "metadata": {
    "collapsed": false,
    "pycharm": {
     "name": "#%%\n"
    }
   }
  },
  {
   "cell_type": "code",
   "execution_count": null,
   "outputs": [],
   "source": [],
   "metadata": {
    "collapsed": false,
    "pycharm": {
     "name": "#%%\n"
    }
   }
  }
 ],
 "metadata": {
  "kernelspec": {
   "display_name": "Python 3",
   "language": "python",
   "name": "python3"
  },
  "language_info": {
   "codemirror_mode": {
    "name": "ipython",
    "version": 2
   },
   "file_extension": ".py",
   "mimetype": "text/x-python",
   "name": "python",
   "nbconvert_exporter": "python",
   "pygments_lexer": "ipython2",
   "version": "2.7.6"
  }
 },
 "nbformat": 4,
 "nbformat_minor": 0
}